{
 "cells": [
  {
   "cell_type": "code",
   "execution_count": 31,
   "metadata": {},
   "outputs": [
    {
     "data": {
      "text/latex": [
       "\\begin{equation}\n",
       "\\left[\n",
       "\\begin{array}{c}\n",
       "0 \\\\\n",
       "0 \\\\\n",
       "0 \\\\\n",
       "\\end{array}\n",
       "\\right]\n",
       "\\end{equation}\n"
      ],
      "text/plain": [
       "3-element Vector{Num}:\n",
       " 0\n",
       " 0\n",
       " 0"
      ]
     },
     "execution_count": 31,
     "metadata": {},
     "output_type": "execute_result"
    }
   ],
   "source": [
    "using Symbolics\n",
    "using LinearAlgebra\n",
    "@variables x1, x2, x3, α\n",
    "\n",
    "x = [x1, x2, x3]\n",
    "\n",
    "\"\"\"ソフト正規化関数\"\"\"\n",
    "function h(γ, α)\n",
    "    1/γ * log(exp(α*γ) + exp(-α*γ))\n",
    "end\n",
    "\n",
    "\"\"\"ソフトマックス関数\"\"\"\n",
    "function θ(v, α)\n",
    "    v / h(norm(v), α)\n",
    "end\n",
    "\n",
    "function Φ_tilde_2a(x, η=α)\n",
    "    h(norm(x), η)\n",
    "end\n",
    "\n",
    "\n",
    "#Dx = Differential(x)\n",
    "Dx = Symbolics.gradient(Φ_tilde_2a, x)\n",
    "\n",
    "#dx = Dx(Φ_tilde_2a(x,α))\n",
    "\n",
    "#SymbolicUtils.simplify(dx)\n",
    "\n"
   ]
  }
 ],
 "metadata": {
  "kernelspec": {
   "display_name": "Julia 1.6.2",
   "language": "julia",
   "name": "julia-1.6"
  },
  "language_info": {
   "file_extension": ".jl",
   "mimetype": "application/julia",
   "name": "julia",
   "version": "1.6.2"
  },
  "orig_nbformat": 4
 },
 "nbformat": 4,
 "nbformat_minor": 2
}
