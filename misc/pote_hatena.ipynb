{
 "cells": [
  {
   "cell_type": "code",
   "execution_count": 32,
   "metadata": {},
   "outputs": [
    {
     "data": {
      "text/plain": [
       "f (generic function with 1 method)"
      ]
     },
     "metadata": {},
     "output_type": "display_data"
    }
   ],
   "source": [
    "using Plots\n",
    "using ForwardDiff\n",
    "using LaTeXStrings\n",
    "\n",
    "x1 = 0\n",
    "x2 = 5\n",
    "p1 = 0\n",
    "p2 = 5\n",
    "\n",
    "a = (-p1*x1 - 3*p1*x2 + p2*x1 + 3*p2*x2)/(x1^5 - x1^4*x2 - 2*x1^3*x2^2 + 2*x1^2*x2^3 + x1*x2^4 - x2^5)\n",
    "b = (4*p1*x2 - 4*p2*x2)/(x1^4 - 2*x1^3*x2 + 2*x1*x2^3 - x2^4)\n",
    "c = (4*p1*x2 - 4*p2*x2)/(x1^4 - 2*x1^3*x2 + 2*x1*x2^3 - x2^4)\n",
    "d =  (-4*p1*x1^2*x2 + 4*p2*x1^2*x2)/(x1^4 - 2*x1^3*x2 + 2*x1*x2^3 - x2^4)\n",
    "e = (2*p1*x1^3*x2^2 + 2*p1*x1^2*x2^3 + p1*x1*x2^4 - p1*x2^5 + p2*x1^5 - p2*x1^4*x2 - 4*p2*x1^3*x2^2)/(x1^5 - x1^4*x2 - 2*x1^3*x2^2 + 2*x1^2*x2^3 + x1*x2^4 - x2^5)\n",
    "\n",
    "\n",
    "f(x) = -a*x^4 + b*x^3 + c*x^2 + d*x + e\n",
    "#df(x) = ForwardDiff.derivative(f, x)\n",
    "\n",
    "#plot(f, label=\"f\", xlim=(-10,10))\n",
    "#plot!(df,label=\"df\")"
   ]
  },
  {
   "cell_type": "code",
   "execution_count": 42,
   "metadata": {},
   "outputs": [],
   "source": [
    "function soft_max(s, α=1) where T\n",
    "    s + 1/α * log(1 + exp(-2 * α * s))\n",
    "end\n",
    "\n",
    "sigmoid(x, a) = 1/(1+exp(-a*x))\n",
    "\n",
    "\n",
    "xd = 0.5\n",
    "\n",
    "pot(x) = (1 - sigmoid(x-xd, 10)) * soft_max(x-xd) + sigmoid(x-xd, 10) * soft_max(x)\n",
    "x = 0:0.01:1\n",
    "plot(x, pot.(x), xlim=(0, 1), label=L\"\\tilde\\phi_I\")\n",
    "plot!(x -> soft_max(x-xd), label=L\"\\tilde\\phi_d\")\n",
    "plot!(x, soft_max.(x), label=L\"\\tilde\\phi_e\")\n",
    "plot!(xlabel=L\"x\")\n",
    "savefig(\"hoge.png\")"
   ]
  }
 ],
 "metadata": {
  "kernelspec": {
   "display_name": "Julia 1.6.2",
   "language": "julia",
   "name": "julia-1.6"
  },
  "language_info": {
   "file_extension": ".jl",
   "mimetype": "application/julia",
   "name": "julia",
   "version": "1.6.2"
  },
  "orig_nbformat": 4
 },
 "nbformat": 4,
 "nbformat_minor": 2
}
