{
 "cells": [
  {
   "cell_type": "markdown",
   "metadata": {},
   "source": [
    "平面ロボットアームの運動学導出"
   ]
  },
  {
   "cell_type": "code",
   "execution_count": 1,
   "metadata": {},
   "outputs": [],
   "source": [
    "import sympy as sy\n",
    "from sympy import pi, cos, sin, tan\n",
    "from IPython.display import display\n",
    "from sympy.printing.pycode import pycode\n",
    "\n",
    "#q1, q2, q3, q4 = sy.symbols(\"q1, q2, q3, q4\")  # 関節角度\n",
    "t = sy.Symbol(\"t\")\n",
    "q1 = sy.Function(\"q1\")\n",
    "q2 = sy.Function(\"q2\")\n",
    "q3 = sy.Function(\"q3\")\n",
    "q4 = sy.Function(\"q4\")\n",
    "omega1 = sy.Function(\"omega1\")\n",
    "omega2 = sy.Function(\"omega2\")\n",
    "omega3 = sy.Function(\"omega3\")\n",
    "omega4 = sy.Function(\"omega4\")\n",
    "\n",
    "a1, a2, a3, a4 = sy.symbols(\"a1, a2, a3, a4\")\n",
    "b1, b2, b3, b4 = sy.symbols(\"b1, b2, b3, b4\")\n",
    "c1, c2, c3, c4 = sy.symbols(\"c1, c2, c3, c4\")\n",
    "\n",
    "\n",
    "\n",
    "l1, l2, l3, l4 = sy.symbols(\"l1, l2, l3, l4\")  # リンク長さ\n",
    "lg1, lg2, lg3, lg4 = sy.symbols(\"lg1, lg2, lg3, lg4\")  # 重心までの長さ\n",
    "m1, m2, m3, m4 = sy.symbols(\"m1, m2, m3, m4\")  # 質量\n",
    "Ig1, Ig2, Ig3, Ig4 = sy.symbols(\"I1, I2, I3, I4\")  # 慣性モーメント\n",
    "g = sy.Symbol(\"g\")  # 重力加速度\n",
    "\n",
    "def R(q):\n",
    "    return sy.Matrix([\n",
    "        [cos(q), -sin(q)],\n",
    "        [sin(q), cos(q)],\n",
    "    ])\n",
    "\n",
    "\n",
    "def HTM(q, x, y):\n",
    "    return sy.Matrix([\n",
    "        [cos(q), -sin(q), x],\n",
    "        [sin(q), cos(q), y],\n",
    "        [0, 0, 1],\n",
    "    ])\n",
    "\n",
    "\n",
    "# ジョイントの位置\n",
    "x1 = R(q1(t)) * sy.Matrix([[l1, 0]]).T\n",
    "x2 = R(q1(t)) * sy.Matrix([[l1, 0]]).T + \\\n",
    "    R(q1(t) + q2(t)) * sy.Matrix([[l2, 0]]).T\n",
    "x3 = R(q1(t)) * sy.Matrix([[l1, 0]]).T +\\\n",
    "    R(q1(t) + q2(t)) * sy.Matrix([[l2, 0]]).T +\\\n",
    "        R(q1(t) + q2(t) + q3(t)) * sy.Matrix([[l3, 0]]).T\n",
    "x4 = R(q1(t)) * sy.Matrix([[l1, 0]]).T +\\\n",
    "    R(q1(t) + q2(t)) * sy.Matrix([[l2, 0]]).T +\\\n",
    "        R(q1(t) + q2(t) + q3(t)) * sy.Matrix([[l3, 0]]).T +\\\n",
    "            R(q1(t) + q2(t) + q3(t) + q4(t)) * sy.Matrix([[l4, 0]]).T\n",
    "\n",
    "q = sy.Matrix([[q1(t), q2(t), q3(t), q4(t)]]).T\n",
    "\n",
    "\n"
   ]
  },
  {
   "cell_type": "code",
   "execution_count": 2,
   "metadata": {},
   "outputs": [],
   "source": [
    "J1 = x1.jacobian(q)\n",
    "J2 = x2.jacobian(q)\n",
    "J3 = x3.jacobian(q)\n",
    "J4 = x4.jacobian(q)\n",
    "\n",
    "J1_dot = sy.diff(J1, t)\n",
    "J2_dot = sy.diff(J2, t)\n",
    "J3_dot = sy.diff(J3, t)\n",
    "J4_dot = sy.diff(J4, t)\n",
    "\n",
    "J_all = [J1, J2, J3, J4]\n",
    "J_dot_all = [J1_dot, J2_dot, J3_dot, J4_dot]\n",
    "\n",
    "for i, J in enumerate(J_all):\n",
    "    J_all[i] = J.subs([\n",
    "        (sy.Derivative(q1(t),t), b1),\n",
    "        (sy.Derivative(q2(t),t), b2),\n",
    "        (sy.Derivative(q3(t),t), b3),\n",
    "        (sy.Derivative(q4(t),t), b4),\n",
    "        (q1(t), a1),\n",
    "        (q2(t), a2),\n",
    "        (q3(t), a3),\n",
    "        (q4(t), a4),\n",
    "    ])\n",
    "\n",
    "for i, J_dot in enumerate(J_dot_all):\n",
    "    J_dot_all[i] = J_dot.subs([\n",
    "        (sy.Derivative(q1(t),t), b1),\n",
    "        (sy.Derivative(q2(t),t), b2),\n",
    "        (sy.Derivative(q3(t),t), b3),\n",
    "        (sy.Derivative(q4(t),t), b4),\n",
    "        (q1(t), a1),\n",
    "        (q2(t), a2),\n",
    "        (q3(t), a3),\n",
    "        (q4(t), a4),\n",
    "    ])\n",
    "\n",
    "\n"
   ]
  },
  {
   "cell_type": "code",
   "execution_count": 3,
   "metadata": {},
   "outputs": [],
   "source": [
    "f = open('sice_kinema.txt', 'w')\n",
    "for i, j in enumerate([x1, x2, x3, x4]):\n",
    "    s = '\\nx' + str(i) + '='\n",
    "    f.write(s)\n",
    "    f.write(str(j))\n",
    "\n",
    "for i, j in enumerate(J_all):\n",
    "    s = '\\nJ' + str(i) + '='\n",
    "    f.write(s)\n",
    "    f.write(str(j))\n",
    "for i, j in enumerate(J_dot_all):\n",
    "    s = '\\nJ_dot' + str(i) + '='\n",
    "    f.write(s)\n",
    "    f.write(str(j))\n",
    "\n",
    "f.close()\n"
   ]
  },
  {
   "cell_type": "code",
   "execution_count": 4,
   "metadata": {},
   "outputs": [
    {
     "name": "stdout",
     "output_type": "stream",
     "text": [
      "Matrix([[-b1*l1*cos(a1) - l2*(b1 + b2)*cos(a1 + a2) - l3*(b1 + b2 + b3)*cos(a1 + a2 + a3) - l4*(b1 + b2 + b3 + b4)*cos(a1 + a2 + a3 + a4), -l2*(b1 + b2)*cos(a1 + a2) - l3*(b1 + b2 + b3)*cos(a1 + a2 + a3) - l4*(b1 + b2 + b3 + b4)*cos(a1 + a2 + a3 + a4), -l3*(b1 + b2 + b3)*cos(a1 + a2 + a3) - l4*(b1 + b2 + b3 + b4)*cos(a1 + a2 + a3 + a4), -l4*(b1 + b2 + b3 + b4)*cos(a1 + a2 + a3 + a4)], [-b1*l1*sin(a1) - l2*(b1 + b2)*sin(a1 + a2) - l3*(b1 + b2 + b3)*sin(a1 + a2 + a3) - l4*(b1 + b2 + b3 + b4)*sin(a1 + a2 + a3 + a4), -l2*(b1 + b2)*sin(a1 + a2) - l3*(b1 + b2 + b3)*sin(a1 + a2 + a3) - l4*(b1 + b2 + b3 + b4)*sin(a1 + a2 + a3 + a4), -l3*(b1 + b2 + b3)*sin(a1 + a2 + a3) - l4*(b1 + b2 + b3 + b4)*sin(a1 + a2 + a3 + a4), -l4*(b1 + b2 + b3 + b4)*sin(a1 + a2 + a3 + a4)]])\n"
     ]
    }
   ],
   "source": [
    "print(J_dot_all[3])"
   ]
  },
  {
   "cell_type": "code",
   "execution_count": 5,
   "metadata": {},
   "outputs": [
    {
     "name": "stdout",
     "output_type": "stream",
     "text": [
      "Matrix([[-l1*sin(q1(t)) - l2*sin(q1(t) + q2(t)) - l3*sin(q1(t) + q2(t) + q3(t)) - l4*sin(q1(t) + q2(t) + q3(t) + q4(t)), -l2*sin(q1(t) + q2(t)) - l3*sin(q1(t) + q2(t) + q3(t)) - l4*sin(q1(t) + q2(t) + q3(t) + q4(t)), -l3*sin(q1(t) + q2(t) + q3(t)) - l4*sin(q1(t) + q2(t) + q3(t) + q4(t)), -l4*sin(q1(t) + q2(t) + q3(t) + q4(t))], [l1*cos(q1(t)) + l2*cos(q1(t) + q2(t)) + l3*cos(q1(t) + q2(t) + q3(t)) + l4*cos(q1(t) + q2(t) + q3(t) + q4(t)), l2*cos(q1(t) + q2(t)) + l3*cos(q1(t) + q2(t) + q3(t)) + l4*cos(q1(t) + q2(t) + q3(t) + q4(t)), l3*cos(q1(t) + q2(t) + q3(t)) + l4*cos(q1(t) + q2(t) + q3(t) + q4(t)), l4*cos(q1(t) + q2(t) + q3(t) + q4(t))]])\n"
     ]
    }
   ],
   "source": [
    "print(J4)"
   ]
  }
 ],
 "metadata": {
  "interpreter": {
   "hash": "368756e83d2084993ac505becbe47825c8a72b0fc53c20a5043bb5b908d065dc"
  },
  "kernelspec": {
   "display_name": "Python 3.8.8 64-bit ('base': conda)",
   "language": "python",
   "name": "python3"
  },
  "language_info": {
   "codemirror_mode": {
    "name": "ipython",
    "version": 3
   },
   "file_extension": ".py",
   "mimetype": "text/x-python",
   "name": "python",
   "nbconvert_exporter": "python",
   "pygments_lexer": "ipython3",
   "version": "3.8.8"
  },
  "orig_nbformat": 4
 },
 "nbformat": 4,
 "nbformat_minor": 2
}
