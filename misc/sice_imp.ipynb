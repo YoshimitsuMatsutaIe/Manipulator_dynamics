{
 "cells": [
  {
   "cell_type": "code",
   "execution_count": 2,
   "metadata": {},
   "outputs": [],
   "source": [
    "import sympy as sy\n",
    "from IPython.display import display\n",
    "\n",
    "omega, zeta, md, kd, dd, ke, de = sy.symbols(\"omega, zeta, md, kd, dd, ke, de\")\n",
    "\n",
    "def calc_omega():\n",
    "    return sy.sqrt((kd + ke) / md)\n",
    "\n",
    "def calc_zeta():\n",
    "    return (dd + de) / (2*sy.sqrt(md*(kd+ke)))\n",
    "\n",
    "\n",
    "sol = sy.solve(\n",
    "    [omega - calc_omega(), zeta - calc_zeta()]\n",
    ")"
   ]
  },
  {
   "cell_type": "code",
   "execution_count": 3,
   "metadata": {},
   "outputs": [
    {
     "name": "stdout",
     "output_type": "stream",
     "text": [
      "[{kd: -ke + md*omega**2, dd: -de + 2*zeta*sqrt(md**2*omega**2)}]\n"
     ]
    }
   ],
   "source": [
    "print(sol)"
   ]
  }
 ],
 "metadata": {
  "interpreter": {
   "hash": "368756e83d2084993ac505becbe47825c8a72b0fc53c20a5043bb5b908d065dc"
  },
  "kernelspec": {
   "display_name": "Python 3.8.8 64-bit ('base': conda)",
   "language": "python",
   "name": "python3"
  },
  "language_info": {
   "codemirror_mode": {
    "name": "ipython",
    "version": 3
   },
   "file_extension": ".py",
   "mimetype": "text/x-python",
   "name": "python",
   "nbconvert_exporter": "python",
   "pygments_lexer": "ipython3",
   "version": "3.8.8"
  },
  "orig_nbformat": 4
 },
 "nbformat": 4,
 "nbformat_minor": 2
}
