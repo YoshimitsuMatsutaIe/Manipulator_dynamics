{
 "cells": [
  {
   "cell_type": "code",
   "execution_count": 1,
   "metadata": {},
   "outputs": [],
   "source": [
    "import sympy as sy\n",
    "from sympy import pi, cos, sin, tan\n",
    "from IPython.display import display\n",
    "\n",
    "#q1, q2, q3, q4 = sy.symbols(\"q1, q2, q3, q4\")  # 関節角度\n",
    "t = sy.Symbol(\"t\")\n",
    "q1 = sy.Function(\"q1\")\n",
    "q2 = sy.Function(\"q2\")\n",
    "q3 = sy.Function(\"q3\")\n",
    "q4 = sy.Function(\"q4\")\n",
    "omega1 = sy.Function(\"omega1\")\n",
    "omega2 = sy.Function(\"omega2\")\n",
    "omega3 = sy.Function(\"omega3\")\n",
    "omega4 = sy.Function(\"omega4\")\n",
    "\n",
    "a1, a2, a3, a4 = sy.symbols(\"a1, a2, a3, a4\")\n",
    "b1, b2, b3, b4 = sy.symbols(\"b1, b2, b3, b4\")\n",
    "c1, c2, c3, c4 = sy.symbols(\"c1, c2, c3, c4\")\n",
    "\n",
    "\n",
    "\n",
    "l1, l2, l3, l4 = sy.symbols(\"l1, l2, l3, l4\")  # リンク長さ\n",
    "lg1, lg2, lg3, lg4 = sy.symbols(\"lg1, lg2, lg3, lg4\")  # 重心までの長さ\n",
    "m1, m2, m3, m4 = sy.symbols(\"m1, m2, m3, m4\")  # 質量\n",
    "I1, I2, I3, I4 = sy.symbols(\"I1, I2, I3, I4\")  # 慣性モーメント\n",
    "g = sy.Symbol(\"g\")  # 重力加速度\n",
    "\n",
    "def R(q):\n",
    "    return sy.Matrix([\n",
    "        [cos(q), -sin(q)],\n",
    "        [sin(q), cos(q)],\n",
    "    ])\n",
    "\n",
    "\n",
    "def HTM(q, x, y):\n",
    "    return sy.Matrix([\n",
    "        [cos(q), -sin(q), x],\n",
    "        [sin(q), cos(q), y],\n",
    "        [0, 0, 1],\n",
    "    ])\n",
    "\n",
    "\n",
    "# 重心の位置\n",
    "xg1 = R(q1(t)) * sy.Matrix([[lg1, 0]]).T\n",
    "xg2 = R(q1(t)) * sy.Matrix([[l1, 0]]).T + \\\n",
    "    R(q1(t) + q2(t)) * sy.Matrix([[lg2, 0]]).T\n",
    "xg3 = R(q1(t)) * sy.Matrix([[l1, 0]]).T +\\\n",
    "    R(q1(t) + q2(t)) * sy.Matrix([[l2, 0]]).T +\\\n",
    "        R(q1(t) + q2(t) + q3(t)) * sy.Matrix([[lg3, 0]]).T\n",
    "xg4 = R(q1(t)) * sy.Matrix([[l1, 0]]).T +\\\n",
    "    R(q1(t) + q2(t)) * sy.Matrix([[l2, 0]]).T +\\\n",
    "        R(q1(t) + q2(t) + q3(t)) * sy.Matrix([[l3, 0]]).T +\\\n",
    "            R(q1(t) + q2(t) + q3(t) + q4(t)) * sy.Matrix([[lg4, 0]]).T\n",
    "\n",
    "# 重心位置の時間微分\n",
    "xg1_dot = sy.diff(xg1, t)\n",
    "xg2_dot = sy.diff(xg2, t)\n",
    "xg3_dot = sy.diff(xg3, t)\n",
    "xg4_dot = sy.diff(xg4, t)\n",
    "\n",
    "\n",
    "# 運動エネルギー\n",
    "T1 = 1/2*m1*(xg1_dot[0,0]**2 + xg1_dot[1,0]**2) +\\\n",
    "    1/2*I1*sy.Derivative(q1(t),t)**2\n",
    "T2 = 1/2*m2*(xg2_dot[0,0]**2 + xg2_dot[1,0]**2) +\\\n",
    "    1/2*I2*(sy.Derivative(q1(t),t) + sy.Derivative(q2(t),t))**2\n",
    "T3 = 1/2*m3*(xg3_dot[0,0]**2 + xg3_dot[1,0]**2) +\\\n",
    "    1/2*I3*(sy.Derivative(q1(t),t) + sy.Derivative(q2(t),t) + sy.Derivative(q3(t),t))**2\n",
    "T4 = 1/2*m4*(xg4_dot[0,0]**2 + xg4_dot[1,0]**2) +\\\n",
    "    1/2*I4*(sy.Derivative(q1(t),t) + sy.Derivative(q2(t),t) + sy.Derivative(q3(t),t) + sy.Derivative(q4(t),t))**2\n",
    "\n",
    "# 位置エネルギー\n",
    "U1 = m1*g*xg1[1,0]\n",
    "U2 = m2*g*xg2[1,0]\n",
    "U3 = m3*g*xg3[1,0]\n",
    "U4 = m4*g*xg4[1,0]\n",
    "\n",
    "# ラグランジアン\n",
    "L = (T1 + T2 + T3 + T4) - (U1 + U2 + U3 + U4)\n",
    "\n",
    "L = L.subs([\n",
    "    (sy.Derivative(q1(t),t), omega1(t)),\n",
    "    (sy.Derivative(q2(t),t), omega2(t)),\n",
    "    (sy.Derivative(q3(t),t), omega3(t)),\n",
    "    (sy.Derivative(q4(t),t), omega4(t)),\n",
    "])"
   ]
  },
  {
   "cell_type": "code",
   "execution_count": 2,
   "metadata": {},
   "outputs": [],
   "source": [
    "# dLdq1_dot = sy.diff(L, sy.Derivative(q1(t),t))\n",
    "# dLdq2_dot = sy.diff(L, sy.Derivative(q2(t),t))\n",
    "# dLdq3_dot = sy.diff(L, sy.Derivative(q3(t),t))\n",
    "# dLdq4_dot = sy.diff(L, sy.Derivative(q4(t),t))\n",
    "\n",
    "dLdq1_dot = sy.diff(L, omega1(t))\n",
    "dLdq2_dot = sy.diff(L, omega2(t))\n",
    "dLdq3_dot = sy.diff(L, omega3(t))\n",
    "dLdq4_dot = sy.diff(L, omega4(t))\n",
    "\n",
    "DdLdq1_dotDt = sy.diff(dLdq1_dot, t)\n",
    "DdLdq2_dotDt = sy.diff(dLdq2_dot, t)\n",
    "DdLdq3_dotDt = sy.diff(dLdq3_dot, t)\n",
    "DdLdq4_dotDt = sy.diff(dLdq4_dot, t)\n",
    "\n",
    "dLdq1 = sy.diff(L, q1(t))\n",
    "dLdq2 = sy.diff(L, q2(t))\n",
    "dLdq3 = sy.diff(L, q3(t))\n",
    "dLdq4 = sy.diff(L, q4(t))"
   ]
  },
  {
   "cell_type": "code",
   "execution_count": 3,
   "metadata": {},
   "outputs": [],
   "source": [
    "u1 = DdLdq1_dotDt - dLdq1\n",
    "u2 = DdLdq2_dotDt - dLdq2\n",
    "u3 = DdLdq3_dotDt - dLdq3\n",
    "u4 = DdLdq4_dotDt - dLdq4\n",
    "\n",
    "u = sy.Matrix([[u1, u2, u3, u4]]).T\n",
    "\n",
    "u = u.subs([\n",
    "    (sy.Derivative(omega1(t),t), c1),\n",
    "    (sy.Derivative(omega2(t),t), c2),\n",
    "    (sy.Derivative(omega3(t),t), c3),\n",
    "    (sy.Derivative(omega4(t),t), c4),\n",
    "])\n",
    "u = u.subs([\n",
    "    (sy.Derivative(q1(t),t), b1),\n",
    "    (sy.Derivative(q2(t),t), b2),\n",
    "    (sy.Derivative(q3(t),t), b3),\n",
    "    (sy.Derivative(q4(t),t), b4),\n",
    "])\n",
    "u = u.subs([\n",
    "    (q1(t), a1),\n",
    "    (q2(t), a2),\n",
    "    (q3(t), a3),\n",
    "    (q4(t), a4),\n",
    "])\n",
    "u = u.subs([\n",
    "    (omega1(t), b1),\n",
    "    (omega2(t), b2),\n",
    "    (omega3(t), b3),\n",
    "    (omega4(t), b4),\n",
    "])\n"
   ]
  },
  {
   "cell_type": "code",
   "execution_count": 4,
   "metadata": {},
   "outputs": [],
   "source": [
    "_u1_c1 = sy.expand(u[0,0]).coeff(c1, 1)\n",
    "_u1_c2 = sy.expand(u[0,0]).coeff(c2, 1)\n",
    "_u1_c3 = sy.expand(u[0,0]).coeff(c3, 1)\n",
    "_u1_c4 = sy.expand(u[0,0]).coeff(c4, 1)\n",
    "\n",
    "_u2_c1 = sy.expand(u[1,0]).coeff(c1, 1)\n",
    "_u2_c2 = sy.expand(u[1,0]).coeff(c2, 1)\n",
    "_u2_c3 = sy.expand(u[1,0]).coeff(c3, 1)\n",
    "_u2_c4 = sy.expand(u[1,0]).coeff(c4, 1)\n",
    "\n",
    "_u3_c1 = sy.expand(u[2,0]).coeff(c1, 1)\n",
    "_u3_c2 = sy.expand(u[2,0]).coeff(c2, 1)\n",
    "_u3_c3 = sy.expand(u[2,0]).coeff(c3, 1)\n",
    "_u3_c4 = sy.expand(u[2,0]).coeff(c4, 1)\n",
    "\n",
    "_u4_c1 = sy.expand(u[3,0]).coeff(c1, 1)\n",
    "_u4_c2 = sy.expand(u[3,0]).coeff(c2, 1)\n",
    "_u4_c3 = sy.expand(u[3,0]).coeff(c3, 1)\n",
    "_u4_c4 = sy.expand(u[3,0]).coeff(c4, 1)\n",
    "\n",
    "M1 = [_u1_c1, _u1_c2, _u1_c3, _u1_c4,]\n",
    "M2 = [_u2_c1, _u2_c2, _u2_c3, _u2_c4,]\n",
    "M3 = [_u3_c1, _u3_c2, _u3_c3, _u3_c4,]\n",
    "M4 = [_u4_c1, _u4_c2, _u4_c3, _u4_c4,]\n",
    "\n",
    "# 加速度以外の項\n",
    "c_and_g = u.subs([\n",
    "    (c1, 0),\n",
    "    (c2, 0),\n",
    "    (c3, 0),\n",
    "    (c4, 0),\n",
    "])\n",
    "\n",
    "\n",
    "CandG = [c_and_g[0,0], c_and_g[1,0], c_and_g[2,0], c_and_g[3,0]]"
   ]
  },
  {
   "cell_type": "code",
   "execution_count": 5,
   "metadata": {},
   "outputs": [],
   "source": [
    "f = open('sice_dynamics.txt', 'w')\n",
    "for k, M in enumerate([M1, M2, M3, M4]):\n",
    "    for i, m in enumerate(M):\n",
    "        s = '\\nm_' + str(k+1) + \"_\" + str(i+1) + ' = '\n",
    "        f.write(s)\n",
    "        f.write(str(m))\n",
    "\n",
    "for i, j in enumerate(CandG):\n",
    "    s = '\\nCandG' + str(i+1) + ' = '\n",
    "    f.write(s)\n",
    "    f.write(str(j))\n",
    "\n",
    "for i, j in enumerate(u):\n",
    "    s = '\\nu_all' + str(i+1) + '='\n",
    "    f.write(s)\n",
    "    f.write(str(j))\n",
    "f.close()"
   ]
  },
  {
   "cell_type": "code",
   "execution_count": 6,
   "metadata": {},
   "outputs": [
    {
     "data": {
      "text/latex": [
       "$\\displaystyle 1.0 I_{1} + 1.0 I_{2} + 1.0 I_{3} + 1.0 I_{4} + 1.0 l_{1}^{2} m_{2} \\sin^{2}{\\left(a_{1} \\right)} + 1.0 l_{1}^{2} m_{2} \\cos^{2}{\\left(a_{1} \\right)} + 1.0 l_{1}^{2} m_{3} \\sin^{2}{\\left(a_{1} \\right)} + 1.0 l_{1}^{2} m_{3} \\cos^{2}{\\left(a_{1} \\right)} + 1.0 l_{1}^{2} m_{4} \\sin^{2}{\\left(a_{1} \\right)} + 1.0 l_{1}^{2} m_{4} \\cos^{2}{\\left(a_{1} \\right)} + 2.0 l_{1} l_{2} m_{3} \\sin{\\left(a_{1} \\right)} \\sin{\\left(a_{1} + a_{2} \\right)} + 2.0 l_{1} l_{2} m_{3} \\cos{\\left(a_{1} \\right)} \\cos{\\left(a_{1} + a_{2} \\right)} + 2.0 l_{1} l_{2} m_{4} \\sin{\\left(a_{1} \\right)} \\sin{\\left(a_{1} + a_{2} \\right)} + 2.0 l_{1} l_{2} m_{4} \\cos{\\left(a_{1} \\right)} \\cos{\\left(a_{1} + a_{2} \\right)} + 2.0 l_{1} l_{3} m_{4} \\sin{\\left(a_{1} \\right)} \\sin{\\left(a_{1} + a_{2} + a_{3} \\right)} + 2.0 l_{1} l_{3} m_{4} \\cos{\\left(a_{1} \\right)} \\cos{\\left(a_{1} + a_{2} + a_{3} \\right)} + 2.0 l_{1} lg_{2} m_{2} \\sin{\\left(a_{1} \\right)} \\sin{\\left(a_{1} + a_{2} \\right)} + 2.0 l_{1} lg_{2} m_{2} \\cos{\\left(a_{1} \\right)} \\cos{\\left(a_{1} + a_{2} \\right)} + 2.0 l_{1} lg_{3} m_{3} \\sin{\\left(a_{1} \\right)} \\sin{\\left(a_{1} + a_{2} + a_{3} \\right)} + 2.0 l_{1} lg_{3} m_{3} \\cos{\\left(a_{1} \\right)} \\cos{\\left(a_{1} + a_{2} + a_{3} \\right)} + 2.0 l_{1} lg_{4} m_{4} \\sin{\\left(a_{1} \\right)} \\sin{\\left(a_{1} + a_{2} + a_{3} + a_{4} \\right)} + 2.0 l_{1} lg_{4} m_{4} \\cos{\\left(a_{1} \\right)} \\cos{\\left(a_{1} + a_{2} + a_{3} + a_{4} \\right)} + 1.0 l_{2}^{2} m_{3} \\sin^{2}{\\left(a_{1} + a_{2} \\right)} + 1.0 l_{2}^{2} m_{3} \\cos^{2}{\\left(a_{1} + a_{2} \\right)} + 1.0 l_{2}^{2} m_{4} \\sin^{2}{\\left(a_{1} + a_{2} \\right)} + 1.0 l_{2}^{2} m_{4} \\cos^{2}{\\left(a_{1} + a_{2} \\right)} + 2.0 l_{2} l_{3} m_{4} \\sin{\\left(a_{1} + a_{2} \\right)} \\sin{\\left(a_{1} + a_{2} + a_{3} \\right)} + 2.0 l_{2} l_{3} m_{4} \\cos{\\left(a_{1} + a_{2} \\right)} \\cos{\\left(a_{1} + a_{2} + a_{3} \\right)} + 2.0 l_{2} lg_{3} m_{3} \\sin{\\left(a_{1} + a_{2} \\right)} \\sin{\\left(a_{1} + a_{2} + a_{3} \\right)} + 2.0 l_{2} lg_{3} m_{3} \\cos{\\left(a_{1} + a_{2} \\right)} \\cos{\\left(a_{1} + a_{2} + a_{3} \\right)} + 2.0 l_{2} lg_{4} m_{4} \\sin{\\left(a_{1} + a_{2} \\right)} \\sin{\\left(a_{1} + a_{2} + a_{3} + a_{4} \\right)} + 2.0 l_{2} lg_{4} m_{4} \\cos{\\left(a_{1} + a_{2} \\right)} \\cos{\\left(a_{1} + a_{2} + a_{3} + a_{4} \\right)} + 1.0 l_{3}^{2} m_{4} \\sin^{2}{\\left(a_{1} + a_{2} + a_{3} \\right)} + 1.0 l_{3}^{2} m_{4} \\cos^{2}{\\left(a_{1} + a_{2} + a_{3} \\right)} + 2.0 l_{3} lg_{4} m_{4} \\sin{\\left(a_{1} + a_{2} + a_{3} \\right)} \\sin{\\left(a_{1} + a_{2} + a_{3} + a_{4} \\right)} + 2.0 l_{3} lg_{4} m_{4} \\cos{\\left(a_{1} + a_{2} + a_{3} \\right)} \\cos{\\left(a_{1} + a_{2} + a_{3} + a_{4} \\right)} + 1.0 lg_{1}^{2} m_{1} \\sin^{2}{\\left(a_{1} \\right)} + 1.0 lg_{1}^{2} m_{1} \\cos^{2}{\\left(a_{1} \\right)} + 1.0 lg_{2}^{2} m_{2} \\sin^{2}{\\left(a_{1} + a_{2} \\right)} + 1.0 lg_{2}^{2} m_{2} \\cos^{2}{\\left(a_{1} + a_{2} \\right)} + 1.0 lg_{3}^{2} m_{3} \\sin^{2}{\\left(a_{1} + a_{2} + a_{3} \\right)} + 1.0 lg_{3}^{2} m_{3} \\cos^{2}{\\left(a_{1} + a_{2} + a_{3} \\right)} + 1.0 lg_{4}^{2} m_{4} \\sin^{2}{\\left(a_{1} + a_{2} + a_{3} + a_{4} \\right)} + 1.0 lg_{4}^{2} m_{4} \\cos^{2}{\\left(a_{1} + a_{2} + a_{3} + a_{4} \\right)}$"
      ],
      "text/plain": [
       "1.0*I1 + 1.0*I2 + 1.0*I3 + 1.0*I4 + 1.0*l1**2*m2*sin(a1)**2 + 1.0*l1**2*m2*cos(a1)**2 + 1.0*l1**2*m3*sin(a1)**2 + 1.0*l1**2*m3*cos(a1)**2 + 1.0*l1**2*m4*sin(a1)**2 + 1.0*l1**2*m4*cos(a1)**2 + 2.0*l1*l2*m3*sin(a1)*sin(a1 + a2) + 2.0*l1*l2*m3*cos(a1)*cos(a1 + a2) + 2.0*l1*l2*m4*sin(a1)*sin(a1 + a2) + 2.0*l1*l2*m4*cos(a1)*cos(a1 + a2) + 2.0*l1*l3*m4*sin(a1)*sin(a1 + a2 + a3) + 2.0*l1*l3*m4*cos(a1)*cos(a1 + a2 + a3) + 2.0*l1*lg2*m2*sin(a1)*sin(a1 + a2) + 2.0*l1*lg2*m2*cos(a1)*cos(a1 + a2) + 2.0*l1*lg3*m3*sin(a1)*sin(a1 + a2 + a3) + 2.0*l1*lg3*m3*cos(a1)*cos(a1 + a2 + a3) + 2.0*l1*lg4*m4*sin(a1)*sin(a1 + a2 + a3 + a4) + 2.0*l1*lg4*m4*cos(a1)*cos(a1 + a2 + a3 + a4) + 1.0*l2**2*m3*sin(a1 + a2)**2 + 1.0*l2**2*m3*cos(a1 + a2)**2 + 1.0*l2**2*m4*sin(a1 + a2)**2 + 1.0*l2**2*m4*cos(a1 + a2)**2 + 2.0*l2*l3*m4*sin(a1 + a2)*sin(a1 + a2 + a3) + 2.0*l2*l3*m4*cos(a1 + a2)*cos(a1 + a2 + a3) + 2.0*l2*lg3*m3*sin(a1 + a2)*sin(a1 + a2 + a3) + 2.0*l2*lg3*m3*cos(a1 + a2)*cos(a1 + a2 + a3) + 2.0*l2*lg4*m4*sin(a1 + a2)*sin(a1 + a2 + a3 + a4) + 2.0*l2*lg4*m4*cos(a1 + a2)*cos(a1 + a2 + a3 + a4) + 1.0*l3**2*m4*sin(a1 + a2 + a3)**2 + 1.0*l3**2*m4*cos(a1 + a2 + a3)**2 + 2.0*l3*lg4*m4*sin(a1 + a2 + a3)*sin(a1 + a2 + a3 + a4) + 2.0*l3*lg4*m4*cos(a1 + a2 + a3)*cos(a1 + a2 + a3 + a4) + 1.0*lg1**2*m1*sin(a1)**2 + 1.0*lg1**2*m1*cos(a1)**2 + 1.0*lg2**2*m2*sin(a1 + a2)**2 + 1.0*lg2**2*m2*cos(a1 + a2)**2 + 1.0*lg3**2*m3*sin(a1 + a2 + a3)**2 + 1.0*lg3**2*m3*cos(a1 + a2 + a3)**2 + 1.0*lg4**2*m4*sin(a1 + a2 + a3 + a4)**2 + 1.0*lg4**2*m4*cos(a1 + a2 + a3 + a4)**2"
      ]
     },
     "execution_count": 6,
     "metadata": {},
     "output_type": "execute_result"
    }
   ],
   "source": [
    "_u1_c1"
   ]
  },
  {
   "cell_type": "code",
   "execution_count": 7,
   "metadata": {},
   "outputs": [
    {
     "data": {
      "text/latex": [
       "$\\displaystyle 1.0 I_{1} c_{1} + 0.5 I_{2} \\left(2 c_{1} + 2 c_{2}\\right) + 0.5 I_{3} \\left(2 c_{1} + 2 c_{2} + 2 c_{3}\\right) + 0.5 I_{4} \\left(2 c_{1} + 2 c_{2} + 2 c_{3} + 2 c_{4}\\right) + g lg_{1} m_{1} \\cos{\\left(a_{1} \\right)} + g m_{2} \\left(l_{1} \\cos{\\left(a_{1} \\right)} + lg_{2} \\cos{\\left(a_{1} + a_{2} \\right)}\\right) + g m_{3} \\left(l_{1} \\cos{\\left(a_{1} \\right)} + l_{2} \\cos{\\left(a_{1} + a_{2} \\right)} + lg_{3} \\cos{\\left(a_{1} + a_{2} + a_{3} \\right)}\\right) + g m_{4} \\left(l_{1} \\cos{\\left(a_{1} \\right)} + l_{2} \\cos{\\left(a_{1} + a_{2} \\right)} + l_{3} \\cos{\\left(a_{1} + a_{2} + a_{3} \\right)} + lg_{4} \\cos{\\left(a_{1} + a_{2} + a_{3} + a_{4} \\right)}\\right) + 0.5 m_{1} \\left(2 c_{1} lg_{1}^{2} \\sin^{2}{\\left(a_{1} \\right)} + 2 c_{1} lg_{1}^{2} \\cos^{2}{\\left(a_{1} \\right)}\\right) - 0.5 m_{2} \\left(\\left(- 2 b_{1} l_{1} \\sin{\\left(a_{1} \\right)} - 2 lg_{2} \\left(b_{1} + b_{2}\\right) \\sin{\\left(a_{1} + a_{2} \\right)}\\right) \\left(b_{1} l_{1} \\cos{\\left(a_{1} \\right)} + lg_{2} \\left(b_{1} + b_{2}\\right) \\cos{\\left(a_{1} + a_{2} \\right)}\\right) + \\left(- b_{1} l_{1} \\sin{\\left(a_{1} \\right)} - lg_{2} \\left(b_{1} + b_{2}\\right) \\sin{\\left(a_{1} + a_{2} \\right)}\\right) \\left(- 2 b_{1} l_{1} \\cos{\\left(a_{1} \\right)} - 2 lg_{2} \\left(b_{1} + b_{2}\\right) \\cos{\\left(a_{1} + a_{2} \\right)}\\right)\\right) + 0.5 m_{2} \\left(\\left(- 2 l_{1} \\sin{\\left(a_{1} \\right)} - 2 lg_{2} \\sin{\\left(a_{1} + a_{2} \\right)}\\right) \\left(- b_{1}^{2} l_{1} \\cos{\\left(a_{1} \\right)} - c_{1} l_{1} \\sin{\\left(a_{1} \\right)} - lg_{2} \\left(b_{1} + b_{2}\\right)^{2} \\cos{\\left(a_{1} + a_{2} \\right)} - lg_{2} \\left(c_{1} + c_{2}\\right) \\sin{\\left(a_{1} + a_{2} \\right)}\\right) + \\left(2 l_{1} \\cos{\\left(a_{1} \\right)} + 2 lg_{2} \\cos{\\left(a_{1} + a_{2} \\right)}\\right) \\left(- b_{1}^{2} l_{1} \\sin{\\left(a_{1} \\right)} + c_{1} l_{1} \\cos{\\left(a_{1} \\right)} - lg_{2} \\left(b_{1} + b_{2}\\right)^{2} \\sin{\\left(a_{1} + a_{2} \\right)} + lg_{2} \\left(c_{1} + c_{2}\\right) \\cos{\\left(a_{1} + a_{2} \\right)}\\right) + \\left(- 2 b_{1} l_{1} \\sin{\\left(a_{1} \\right)} - 2 lg_{2} \\left(b_{1} + b_{2}\\right) \\sin{\\left(a_{1} + a_{2} \\right)}\\right) \\left(b_{1} l_{1} \\cos{\\left(a_{1} \\right)} + lg_{2} \\left(b_{1} + b_{2}\\right) \\cos{\\left(a_{1} + a_{2} \\right)}\\right) + \\left(- b_{1} l_{1} \\sin{\\left(a_{1} \\right)} - lg_{2} \\left(b_{1} + b_{2}\\right) \\sin{\\left(a_{1} + a_{2} \\right)}\\right) \\left(- 2 b_{1} l_{1} \\cos{\\left(a_{1} \\right)} - 2 lg_{2} \\left(b_{1} + b_{2}\\right) \\cos{\\left(a_{1} + a_{2} \\right)}\\right)\\right) - 0.5 m_{3} \\left(\\left(- 2 b_{1} l_{1} \\sin{\\left(a_{1} \\right)} - 2 l_{2} \\left(b_{1} + b_{2}\\right) \\sin{\\left(a_{1} + a_{2} \\right)} - 2 lg_{3} \\left(b_{1} + b_{2} + b_{3}\\right) \\sin{\\left(a_{1} + a_{2} + a_{3} \\right)}\\right) \\left(b_{1} l_{1} \\cos{\\left(a_{1} \\right)} + l_{2} \\left(b_{1} + b_{2}\\right) \\cos{\\left(a_{1} + a_{2} \\right)} + lg_{3} \\left(b_{1} + b_{2} + b_{3}\\right) \\cos{\\left(a_{1} + a_{2} + a_{3} \\right)}\\right) + \\left(- b_{1} l_{1} \\sin{\\left(a_{1} \\right)} - l_{2} \\left(b_{1} + b_{2}\\right) \\sin{\\left(a_{1} + a_{2} \\right)} - lg_{3} \\left(b_{1} + b_{2} + b_{3}\\right) \\sin{\\left(a_{1} + a_{2} + a_{3} \\right)}\\right) \\left(- 2 b_{1} l_{1} \\cos{\\left(a_{1} \\right)} - 2 l_{2} \\left(b_{1} + b_{2}\\right) \\cos{\\left(a_{1} + a_{2} \\right)} - 2 lg_{3} \\left(b_{1} + b_{2} + b_{3}\\right) \\cos{\\left(a_{1} + a_{2} + a_{3} \\right)}\\right)\\right) + 0.5 m_{3} \\left(\\left(- 2 l_{1} \\sin{\\left(a_{1} \\right)} - 2 l_{2} \\sin{\\left(a_{1} + a_{2} \\right)} - 2 lg_{3} \\sin{\\left(a_{1} + a_{2} + a_{3} \\right)}\\right) \\left(- b_{1}^{2} l_{1} \\cos{\\left(a_{1} \\right)} - c_{1} l_{1} \\sin{\\left(a_{1} \\right)} - l_{2} \\left(b_{1} + b_{2}\\right)^{2} \\cos{\\left(a_{1} + a_{2} \\right)} - l_{2} \\left(c_{1} + c_{2}\\right) \\sin{\\left(a_{1} + a_{2} \\right)} - lg_{3} \\left(b_{1} + b_{2} + b_{3}\\right)^{2} \\cos{\\left(a_{1} + a_{2} + a_{3} \\right)} - lg_{3} \\left(c_{1} + c_{2} + c_{3}\\right) \\sin{\\left(a_{1} + a_{2} + a_{3} \\right)}\\right) + \\left(2 l_{1} \\cos{\\left(a_{1} \\right)} + 2 l_{2} \\cos{\\left(a_{1} + a_{2} \\right)} + 2 lg_{3} \\cos{\\left(a_{1} + a_{2} + a_{3} \\right)}\\right) \\left(- b_{1}^{2} l_{1} \\sin{\\left(a_{1} \\right)} + c_{1} l_{1} \\cos{\\left(a_{1} \\right)} - l_{2} \\left(b_{1} + b_{2}\\right)^{2} \\sin{\\left(a_{1} + a_{2} \\right)} + l_{2} \\left(c_{1} + c_{2}\\right) \\cos{\\left(a_{1} + a_{2} \\right)} - lg_{3} \\left(b_{1} + b_{2} + b_{3}\\right)^{2} \\sin{\\left(a_{1} + a_{2} + a_{3} \\right)} + lg_{3} \\left(c_{1} + c_{2} + c_{3}\\right) \\cos{\\left(a_{1} + a_{2} + a_{3} \\right)}\\right) + \\left(- 2 b_{1} l_{1} \\sin{\\left(a_{1} \\right)} - 2 l_{2} \\left(b_{1} + b_{2}\\right) \\sin{\\left(a_{1} + a_{2} \\right)} - 2 lg_{3} \\left(b_{1} + b_{2} + b_{3}\\right) \\sin{\\left(a_{1} + a_{2} + a_{3} \\right)}\\right) \\left(b_{1} l_{1} \\cos{\\left(a_{1} \\right)} + l_{2} \\left(b_{1} + b_{2}\\right) \\cos{\\left(a_{1} + a_{2} \\right)} + lg_{3} \\left(b_{1} + b_{2} + b_{3}\\right) \\cos{\\left(a_{1} + a_{2} + a_{3} \\right)}\\right) + \\left(- b_{1} l_{1} \\sin{\\left(a_{1} \\right)} - l_{2} \\left(b_{1} + b_{2}\\right) \\sin{\\left(a_{1} + a_{2} \\right)} - lg_{3} \\left(b_{1} + b_{2} + b_{3}\\right) \\sin{\\left(a_{1} + a_{2} + a_{3} \\right)}\\right) \\left(- 2 b_{1} l_{1} \\cos{\\left(a_{1} \\right)} - 2 l_{2} \\left(b_{1} + b_{2}\\right) \\cos{\\left(a_{1} + a_{2} \\right)} - 2 lg_{3} \\left(b_{1} + b_{2} + b_{3}\\right) \\cos{\\left(a_{1} + a_{2} + a_{3} \\right)}\\right)\\right) - 0.5 m_{4} \\left(\\left(- 2 b_{1} l_{1} \\sin{\\left(a_{1} \\right)} - 2 l_{2} \\left(b_{1} + b_{2}\\right) \\sin{\\left(a_{1} + a_{2} \\right)} - 2 l_{3} \\left(b_{1} + b_{2} + b_{3}\\right) \\sin{\\left(a_{1} + a_{2} + a_{3} \\right)} - 2 lg_{4} \\left(b_{1} + b_{2} + b_{3} + b_{4}\\right) \\sin{\\left(a_{1} + a_{2} + a_{3} + a_{4} \\right)}\\right) \\left(b_{1} l_{1} \\cos{\\left(a_{1} \\right)} + l_{2} \\left(b_{1} + b_{2}\\right) \\cos{\\left(a_{1} + a_{2} \\right)} + l_{3} \\left(b_{1} + b_{2} + b_{3}\\right) \\cos{\\left(a_{1} + a_{2} + a_{3} \\right)} + lg_{4} \\left(b_{1} + b_{2} + b_{3} + b_{4}\\right) \\cos{\\left(a_{1} + a_{2} + a_{3} + a_{4} \\right)}\\right) + \\left(- b_{1} l_{1} \\sin{\\left(a_{1} \\right)} - l_{2} \\left(b_{1} + b_{2}\\right) \\sin{\\left(a_{1} + a_{2} \\right)} - l_{3} \\left(b_{1} + b_{2} + b_{3}\\right) \\sin{\\left(a_{1} + a_{2} + a_{3} \\right)} - lg_{4} \\left(b_{1} + b_{2} + b_{3} + b_{4}\\right) \\sin{\\left(a_{1} + a_{2} + a_{3} + a_{4} \\right)}\\right) \\left(- 2 b_{1} l_{1} \\cos{\\left(a_{1} \\right)} - 2 l_{2} \\left(b_{1} + b_{2}\\right) \\cos{\\left(a_{1} + a_{2} \\right)} - 2 l_{3} \\left(b_{1} + b_{2} + b_{3}\\right) \\cos{\\left(a_{1} + a_{2} + a_{3} \\right)} - 2 lg_{4} \\left(b_{1} + b_{2} + b_{3} + b_{4}\\right) \\cos{\\left(a_{1} + a_{2} + a_{3} + a_{4} \\right)}\\right)\\right) + 0.5 m_{4} \\left(\\left(- 2 l_{1} \\sin{\\left(a_{1} \\right)} - 2 l_{2} \\sin{\\left(a_{1} + a_{2} \\right)} - 2 l_{3} \\sin{\\left(a_{1} + a_{2} + a_{3} \\right)} - 2 lg_{4} \\sin{\\left(a_{1} + a_{2} + a_{3} + a_{4} \\right)}\\right) \\left(- b_{1}^{2} l_{1} \\cos{\\left(a_{1} \\right)} - c_{1} l_{1} \\sin{\\left(a_{1} \\right)} - l_{2} \\left(b_{1} + b_{2}\\right)^{2} \\cos{\\left(a_{1} + a_{2} \\right)} - l_{2} \\left(c_{1} + c_{2}\\right) \\sin{\\left(a_{1} + a_{2} \\right)} - l_{3} \\left(b_{1} + b_{2} + b_{3}\\right)^{2} \\cos{\\left(a_{1} + a_{2} + a_{3} \\right)} - l_{3} \\left(c_{1} + c_{2} + c_{3}\\right) \\sin{\\left(a_{1} + a_{2} + a_{3} \\right)} - lg_{4} \\left(b_{1} + b_{2} + b_{3} + b_{4}\\right)^{2} \\cos{\\left(a_{1} + a_{2} + a_{3} + a_{4} \\right)} - lg_{4} \\left(c_{1} + c_{2} + c_{3} + c_{4}\\right) \\sin{\\left(a_{1} + a_{2} + a_{3} + a_{4} \\right)}\\right) + \\left(2 l_{1} \\cos{\\left(a_{1} \\right)} + 2 l_{2} \\cos{\\left(a_{1} + a_{2} \\right)} + 2 l_{3} \\cos{\\left(a_{1} + a_{2} + a_{3} \\right)} + 2 lg_{4} \\cos{\\left(a_{1} + a_{2} + a_{3} + a_{4} \\right)}\\right) \\left(- b_{1}^{2} l_{1} \\sin{\\left(a_{1} \\right)} + c_{1} l_{1} \\cos{\\left(a_{1} \\right)} - l_{2} \\left(b_{1} + b_{2}\\right)^{2} \\sin{\\left(a_{1} + a_{2} \\right)} + l_{2} \\left(c_{1} + c_{2}\\right) \\cos{\\left(a_{1} + a_{2} \\right)} - l_{3} \\left(b_{1} + b_{2} + b_{3}\\right)^{2} \\sin{\\left(a_{1} + a_{2} + a_{3} \\right)} + l_{3} \\left(c_{1} + c_{2} + c_{3}\\right) \\cos{\\left(a_{1} + a_{2} + a_{3} \\right)} - lg_{4} \\left(b_{1} + b_{2} + b_{3} + b_{4}\\right)^{2} \\sin{\\left(a_{1} + a_{2} + a_{3} + a_{4} \\right)} + lg_{4} \\left(c_{1} + c_{2} + c_{3} + c_{4}\\right) \\cos{\\left(a_{1} + a_{2} + a_{3} + a_{4} \\right)}\\right) + \\left(- 2 b_{1} l_{1} \\sin{\\left(a_{1} \\right)} - 2 l_{2} \\left(b_{1} + b_{2}\\right) \\sin{\\left(a_{1} + a_{2} \\right)} - 2 l_{3} \\left(b_{1} + b_{2} + b_{3}\\right) \\sin{\\left(a_{1} + a_{2} + a_{3} \\right)} - 2 lg_{4} \\left(b_{1} + b_{2} + b_{3} + b_{4}\\right) \\sin{\\left(a_{1} + a_{2} + a_{3} + a_{4} \\right)}\\right) \\left(b_{1} l_{1} \\cos{\\left(a_{1} \\right)} + l_{2} \\left(b_{1} + b_{2}\\right) \\cos{\\left(a_{1} + a_{2} \\right)} + l_{3} \\left(b_{1} + b_{2} + b_{3}\\right) \\cos{\\left(a_{1} + a_{2} + a_{3} \\right)} + lg_{4} \\left(b_{1} + b_{2} + b_{3} + b_{4}\\right) \\cos{\\left(a_{1} + a_{2} + a_{3} + a_{4} \\right)}\\right) + \\left(- b_{1} l_{1} \\sin{\\left(a_{1} \\right)} - l_{2} \\left(b_{1} + b_{2}\\right) \\sin{\\left(a_{1} + a_{2} \\right)} - l_{3} \\left(b_{1} + b_{2} + b_{3}\\right) \\sin{\\left(a_{1} + a_{2} + a_{3} \\right)} - lg_{4} \\left(b_{1} + b_{2} + b_{3} + b_{4}\\right) \\sin{\\left(a_{1} + a_{2} + a_{3} + a_{4} \\right)}\\right) \\left(- 2 b_{1} l_{1} \\cos{\\left(a_{1} \\right)} - 2 l_{2} \\left(b_{1} + b_{2}\\right) \\cos{\\left(a_{1} + a_{2} \\right)} - 2 l_{3} \\left(b_{1} + b_{2} + b_{3}\\right) \\cos{\\left(a_{1} + a_{2} + a_{3} \\right)} - 2 lg_{4} \\left(b_{1} + b_{2} + b_{3} + b_{4}\\right) \\cos{\\left(a_{1} + a_{2} + a_{3} + a_{4} \\right)}\\right)\\right)$"
      ],
      "text/plain": [
       "1.0*I1*c1 + 0.5*I2*(2*c1 + 2*c2) + 0.5*I3*(2*c1 + 2*c2 + 2*c3) + 0.5*I4*(2*c1 + 2*c2 + 2*c3 + 2*c4) + g*lg1*m1*cos(a1) + g*m2*(l1*cos(a1) + lg2*cos(a1 + a2)) + g*m3*(l1*cos(a1) + l2*cos(a1 + a2) + lg3*cos(a1 + a2 + a3)) + g*m4*(l1*cos(a1) + l2*cos(a1 + a2) + l3*cos(a1 + a2 + a3) + lg4*cos(a1 + a2 + a3 + a4)) + 0.5*m1*(2*c1*lg1**2*sin(a1)**2 + 2*c1*lg1**2*cos(a1)**2) - 0.5*m2*((-2*b1*l1*sin(a1) - 2*lg2*(b1 + b2)*sin(a1 + a2))*(b1*l1*cos(a1) + lg2*(b1 + b2)*cos(a1 + a2)) + (-b1*l1*sin(a1) - lg2*(b1 + b2)*sin(a1 + a2))*(-2*b1*l1*cos(a1) - 2*lg2*(b1 + b2)*cos(a1 + a2))) + 0.5*m2*((-2*l1*sin(a1) - 2*lg2*sin(a1 + a2))*(-b1**2*l1*cos(a1) - c1*l1*sin(a1) - lg2*(b1 + b2)**2*cos(a1 + a2) - lg2*(c1 + c2)*sin(a1 + a2)) + (2*l1*cos(a1) + 2*lg2*cos(a1 + a2))*(-b1**2*l1*sin(a1) + c1*l1*cos(a1) - lg2*(b1 + b2)**2*sin(a1 + a2) + lg2*(c1 + c2)*cos(a1 + a2)) + (-2*b1*l1*sin(a1) - 2*lg2*(b1 + b2)*sin(a1 + a2))*(b1*l1*cos(a1) + lg2*(b1 + b2)*cos(a1 + a2)) + (-b1*l1*sin(a1) - lg2*(b1 + b2)*sin(a1 + a2))*(-2*b1*l1*cos(a1) - 2*lg2*(b1 + b2)*cos(a1 + a2))) - 0.5*m3*((-2*b1*l1*sin(a1) - 2*l2*(b1 + b2)*sin(a1 + a2) - 2*lg3*(b1 + b2 + b3)*sin(a1 + a2 + a3))*(b1*l1*cos(a1) + l2*(b1 + b2)*cos(a1 + a2) + lg3*(b1 + b2 + b3)*cos(a1 + a2 + a3)) + (-b1*l1*sin(a1) - l2*(b1 + b2)*sin(a1 + a2) - lg3*(b1 + b2 + b3)*sin(a1 + a2 + a3))*(-2*b1*l1*cos(a1) - 2*l2*(b1 + b2)*cos(a1 + a2) - 2*lg3*(b1 + b2 + b3)*cos(a1 + a2 + a3))) + 0.5*m3*((-2*l1*sin(a1) - 2*l2*sin(a1 + a2) - 2*lg3*sin(a1 + a2 + a3))*(-b1**2*l1*cos(a1) - c1*l1*sin(a1) - l2*(b1 + b2)**2*cos(a1 + a2) - l2*(c1 + c2)*sin(a1 + a2) - lg3*(b1 + b2 + b3)**2*cos(a1 + a2 + a3) - lg3*(c1 + c2 + c3)*sin(a1 + a2 + a3)) + (2*l1*cos(a1) + 2*l2*cos(a1 + a2) + 2*lg3*cos(a1 + a2 + a3))*(-b1**2*l1*sin(a1) + c1*l1*cos(a1) - l2*(b1 + b2)**2*sin(a1 + a2) + l2*(c1 + c2)*cos(a1 + a2) - lg3*(b1 + b2 + b3)**2*sin(a1 + a2 + a3) + lg3*(c1 + c2 + c3)*cos(a1 + a2 + a3)) + (-2*b1*l1*sin(a1) - 2*l2*(b1 + b2)*sin(a1 + a2) - 2*lg3*(b1 + b2 + b3)*sin(a1 + a2 + a3))*(b1*l1*cos(a1) + l2*(b1 + b2)*cos(a1 + a2) + lg3*(b1 + b2 + b3)*cos(a1 + a2 + a3)) + (-b1*l1*sin(a1) - l2*(b1 + b2)*sin(a1 + a2) - lg3*(b1 + b2 + b3)*sin(a1 + a2 + a3))*(-2*b1*l1*cos(a1) - 2*l2*(b1 + b2)*cos(a1 + a2) - 2*lg3*(b1 + b2 + b3)*cos(a1 + a2 + a3))) - 0.5*m4*((-2*b1*l1*sin(a1) - 2*l2*(b1 + b2)*sin(a1 + a2) - 2*l3*(b1 + b2 + b3)*sin(a1 + a2 + a3) - 2*lg4*(b1 + b2 + b3 + b4)*sin(a1 + a2 + a3 + a4))*(b1*l1*cos(a1) + l2*(b1 + b2)*cos(a1 + a2) + l3*(b1 + b2 + b3)*cos(a1 + a2 + a3) + lg4*(b1 + b2 + b3 + b4)*cos(a1 + a2 + a3 + a4)) + (-b1*l1*sin(a1) - l2*(b1 + b2)*sin(a1 + a2) - l3*(b1 + b2 + b3)*sin(a1 + a2 + a3) - lg4*(b1 + b2 + b3 + b4)*sin(a1 + a2 + a3 + a4))*(-2*b1*l1*cos(a1) - 2*l2*(b1 + b2)*cos(a1 + a2) - 2*l3*(b1 + b2 + b3)*cos(a1 + a2 + a3) - 2*lg4*(b1 + b2 + b3 + b4)*cos(a1 + a2 + a3 + a4))) + 0.5*m4*((-2*l1*sin(a1) - 2*l2*sin(a1 + a2) - 2*l3*sin(a1 + a2 + a3) - 2*lg4*sin(a1 + a2 + a3 + a4))*(-b1**2*l1*cos(a1) - c1*l1*sin(a1) - l2*(b1 + b2)**2*cos(a1 + a2) - l2*(c1 + c2)*sin(a1 + a2) - l3*(b1 + b2 + b3)**2*cos(a1 + a2 + a3) - l3*(c1 + c2 + c3)*sin(a1 + a2 + a3) - lg4*(b1 + b2 + b3 + b4)**2*cos(a1 + a2 + a3 + a4) - lg4*(c1 + c2 + c3 + c4)*sin(a1 + a2 + a3 + a4)) + (2*l1*cos(a1) + 2*l2*cos(a1 + a2) + 2*l3*cos(a1 + a2 + a3) + 2*lg4*cos(a1 + a2 + a3 + a4))*(-b1**2*l1*sin(a1) + c1*l1*cos(a1) - l2*(b1 + b2)**2*sin(a1 + a2) + l2*(c1 + c2)*cos(a1 + a2) - l3*(b1 + b2 + b3)**2*sin(a1 + a2 + a3) + l3*(c1 + c2 + c3)*cos(a1 + a2 + a3) - lg4*(b1 + b2 + b3 + b4)**2*sin(a1 + a2 + a3 + a4) + lg4*(c1 + c2 + c3 + c4)*cos(a1 + a2 + a3 + a4)) + (-2*b1*l1*sin(a1) - 2*l2*(b1 + b2)*sin(a1 + a2) - 2*l3*(b1 + b2 + b3)*sin(a1 + a2 + a3) - 2*lg4*(b1 + b2 + b3 + b4)*sin(a1 + a2 + a3 + a4))*(b1*l1*cos(a1) + l2*(b1 + b2)*cos(a1 + a2) + l3*(b1 + b2 + b3)*cos(a1 + a2 + a3) + lg4*(b1 + b2 + b3 + b4)*cos(a1 + a2 + a3 + a4)) + (-b1*l1*sin(a1) - l2*(b1 + b2)*sin(a1 + a2) - l3*(b1 + b2 + b3)*sin(a1 + a2 + a3) - lg4*(b1 + b2 + b3 + b4)*sin(a1 + a2 + a3 + a4))*(-2*b1*l1*cos(a1) - 2*l2*(b1 + b2)*cos(a1 + a2) - 2*l3*(b1 + b2 + b3)*cos(a1 + a2 + a3) - 2*lg4*(b1 + b2 + b3 + b4)*cos(a1 + a2 + a3 + a4)))"
      ]
     },
     "execution_count": 7,
     "metadata": {},
     "output_type": "execute_result"
    }
   ],
   "source": [
    "u[0,0]"
   ]
  }
 ],
 "metadata": {
  "interpreter": {
   "hash": "f4dfc3534a11df64ca8ab5b1d0d5f00bece38226cd6557b9a8a26359d97dd2dd"
  },
  "kernelspec": {
   "display_name": "Python 3.8.8 64-bit ('base': conda)",
   "language": "python",
   "name": "python3"
  },
  "language_info": {
   "codemirror_mode": {
    "name": "ipython",
    "version": 3
   },
   "file_extension": ".py",
   "mimetype": "text/x-python",
   "name": "python",
   "nbconvert_exporter": "python",
   "pygments_lexer": "ipython3",
   "version": "3.8.8"
  },
  "orig_nbformat": 4
 },
 "nbformat": 4,
 "nbformat_minor": 2
}
