{
 "cells": [
  {
   "cell_type": "code",
   "execution_count": 68,
   "metadata": {},
   "outputs": [],
   "source": [
    "import sympy as sy\n",
    "from sympy import pi, cos, sin, tan\n",
    "from IPython.display import display\n",
    "\n",
    "#q1, q2, q3, q4 = sy.symbols(\"q1, q2, q3, q4\")  # 関節角度\n",
    "t = sy.Symbol(\"t\")\n",
    "q1 = sy.Function(\"q1\")\n",
    "q2 = sy.Function(\"q2\")\n",
    "q3 = sy.Function(\"q3\")\n",
    "q4 = sy.Function(\"q4\")\n",
    "omega1 = sy.Function(\"omega1\")\n",
    "omega2 = sy.Function(\"omega2\")\n",
    "omega3 = sy.Function(\"omega3\")\n",
    "omega4 = sy.Function(\"omega4\")\n",
    "\n",
    "a1, a2, a3, a4 = sy.symbols(\"a1, a2, a3, a4\")\n",
    "b1, b2, b3, b4 = sy.symbols(\"b1, b2, b3, b4\")\n",
    "c1, c2, c3, c4 = sy.symbols(\"c1, c2, c3, c4\")\n",
    "\n",
    "\n",
    "\n",
    "l1, l2, l3, l4 = sy.symbols(\"l1, l2, l3, l4\")  # リンク長さ\n",
    "lg1, lg2, lg3, lg4 = sy.symbols(\"lg1, lg2, lg3, lg4\")  # 重心までの長さ\n",
    "m1, m2, m3, m4 = sy.symbols(\"m1, m2, m3, m4\")  # 質量\n",
    "Ig1, Ig2, Ig3, Ig4 = sy.symbols(\"I1, I2, I3, I4\")  # 慣性モーメント\n",
    "g = sy.Symbol(\"g\")  # 重力加速度\n",
    "\n",
    "def R(q):\n",
    "    return sy.Matrix([\n",
    "        [cos(q), -sin(q)],\n",
    "        [sin(q), cos(q)],\n",
    "    ])\n",
    "\n",
    "\n",
    "def HTM(q, x, y):\n",
    "    return sy.Matrix([\n",
    "        [cos(q), -sin(q), x],\n",
    "        [sin(q), cos(q), y],\n",
    "        [0, 0, 1],\n",
    "    ])\n",
    "\n",
    "\n",
    "# 重心の位置\n",
    "xg1 = R(q1(t)) * sy.Matrix([[lg1, 0]]).T\n",
    "xg2 = R(q1(t)) * sy.Matrix([[l1, 0]]).T + \\\n",
    "    R(q1(t) + q2(t)) * sy.Matrix([[lg2, 0]]).T\n",
    "xg3 = R(q1(t)) * sy.Matrix([[l1, 0]]).T +\\\n",
    "    R(q1(t) + q2(t)) * sy.Matrix([[l2, 0]]).T +\\\n",
    "        R(q1(t) + q2(t) + q3(t)) * sy.Matrix([[lg3, 0]]).T\n",
    "xg4 = R(q1(t)) * sy.Matrix([[l1, 0]]).T +\\\n",
    "    R(q1(t) + q2(t)) * sy.Matrix([[l2, 0]]).T +\\\n",
    "        R(q1(t) + q2(t) + q3(t)) * sy.Matrix([[l3, 0]]).T +\\\n",
    "            R(q1(t) + q2(t) + q3(t) + q4(t)) * sy.Matrix([[lg4, 0]]).T\n",
    "\n",
    "# 重心位置の時間微分\n",
    "xg1_dot = sy.diff(xg1, t)\n",
    "xg2_dot = sy.diff(xg2, t)\n",
    "xg3_dot = sy.diff(xg3, t)\n",
    "xg4_dot = sy.diff(xg4, t)\n",
    "\n",
    "\n",
    "# 運動エネルギー\n",
    "T1 = 1/2*m1*(xg1_dot[0,0]**2 + xg1_dot[1,0]**2) +\\\n",
    "    1/2*Ig1*sy.Derivative(q1(t),t)**2\n",
    "T2 = 1/2*m2*(xg2_dot[0,0]**2 + xg2_dot[1,0]**2) +\\\n",
    "    1/2*Ig2*(sy.Derivative(q1(t),t) + sy.Derivative(q2(t),t))**2\n",
    "T3 = 1/2*m3*(xg3_dot[0,0]**2 + xg3_dot[1,0]**2) +\\\n",
    "    1/2*Ig3*(sy.Derivative(q1(t),t) + sy.Derivative(q2(t),t) + sy.Derivative(q3(t),t))**2\n",
    "T4 = 1/2*m4*(xg4_dot[0,0]**2 + xg4_dot[1,0]**2) +\\\n",
    "    1/2*Ig4*(sy.Derivative(q1(t),t) + sy.Derivative(q2(t),t) + sy.Derivative(q3(t),t) + sy.Derivative(q4(t),t))**2\n",
    "\n",
    "# 位置エネルギー\n",
    "U1 = m1*g*xg1[1,0]\n",
    "U2 = m2*g*xg2[1,0]\n",
    "U3 = m3*g*xg3[1,0]\n",
    "U4 = m4*g*xg4[1,0]\n",
    "\n",
    "# ラグランジアン\n",
    "L = (T1 + T2 + T3 + T4) - (U1 + U2 + U3 + U4)\n",
    "\n",
    "L = L.subs([\n",
    "    (sy.Derivative(q1(t),t), omega1(t)),\n",
    "    (sy.Derivative(q2(t),t), omega2(t)),\n",
    "    (sy.Derivative(q3(t),t), omega3(t)),\n",
    "    (sy.Derivative(q4(t),t), omega4(t)),\n",
    "])"
   ]
  },
  {
   "cell_type": "code",
   "execution_count": 69,
   "metadata": {},
   "outputs": [],
   "source": [
    "# dLdq1_dot = sy.diff(L, sy.Derivative(q1(t),t))\n",
    "# dLdq2_dot = sy.diff(L, sy.Derivative(q2(t),t))\n",
    "# dLdq3_dot = sy.diff(L, sy.Derivative(q3(t),t))\n",
    "# dLdq4_dot = sy.diff(L, sy.Derivative(q4(t),t))\n",
    "\n",
    "dLdq1_dot = sy.diff(L, omega1(t))\n",
    "dLdq2_dot = sy.diff(L, omega2(t))\n",
    "dLdq3_dot = sy.diff(L, omega3(t))\n",
    "dLdq4_dot = sy.diff(L, omega4(t))\n",
    "\n",
    "DdLdq1_dotDt = sy.diff(dLdq1_dot, t)\n",
    "DdLdq2_dotDt = sy.diff(dLdq2_dot, t)\n",
    "DdLdq3_dotDt = sy.diff(dLdq3_dot, t)\n",
    "DdLdq4_dotDt = sy.diff(dLdq4_dot, t)\n",
    "\n",
    "dLdq1 = sy.diff(L, q1(t))\n",
    "dLdq2 = sy.diff(L, q2(t))\n",
    "dLdq3 = sy.diff(L, q3(t))\n",
    "dLdq4 = sy.diff(L, q4(t))"
   ]
  },
  {
   "cell_type": "code",
   "execution_count": 83,
   "metadata": {},
   "outputs": [],
   "source": [
    "u1 = DdLdq1_dotDt - dLdq1\n",
    "u2 = DdLdq2_dotDt - dLdq2\n",
    "u3 = DdLdq3_dotDt - dLdq3\n",
    "u4 = DdLdq4_dotDt - dLdq4\n",
    "\n",
    "u = sy.Matrix([[u1, u2, u3, u4]]).T\n",
    "\n",
    "u = u.subs([\n",
    "    (sy.Derivative(omega1(t),t), c1),\n",
    "    (sy.Derivative(omega2(t),t), c2),\n",
    "    (sy.Derivative(omega3(t),t), c3),\n",
    "    (sy.Derivative(omega4(t),t), c4),\n",
    "])\n",
    "u = u.subs([\n",
    "    (sy.Derivative(q1(t),t), b1),\n",
    "    (sy.Derivative(q2(t),t), b2),\n",
    "    (sy.Derivative(q3(t),t), b3),\n",
    "    (sy.Derivative(q4(t),t), b4),\n",
    "])\n",
    "u = u.subs([\n",
    "    (q1(t), a1),\n",
    "    (q2(t), a2),\n",
    "    (q3(t), a3),\n",
    "    (q4(t), a4),\n",
    "])\n",
    "u = u.subs([\n",
    "    (omega1(t), b1),\n",
    "    (omega2(t), b2),\n",
    "    (omega3(t), b3),\n",
    "    (omega4(t), b4),\n",
    "])\n"
   ]
  },
  {
   "cell_type": "code",
   "execution_count": 92,
   "metadata": {},
   "outputs": [],
   "source": [
    "tau1, tau2, tau3, tau4 = sy.symbols(\"tau1, tau2, tau3, tau4\")\n",
    "tau = sy.Matrix([[tau1, tau2, tau3, tau4]]).T\n",
    "\n",
    "f = tau - u\n",
    "\n",
    "sol = sy.solve(\n",
    "    [f[0,0], f[1,0], f[2,0], f[3,0]],\n",
    "    [c1, c2, c3, c4]\n",
    ")"
   ]
  },
  {
   "cell_type": "code",
   "execution_count": null,
   "metadata": {},
   "outputs": [
    {
     "ename": "Error",
     "evalue": "Session cannot generate requests",
     "output_type": "error",
     "traceback": [
      "Error: Session cannot generate requests",
      "at S.executeCodeCell (c:\\Users\\Yoshi\\.vscode\\extensions\\ms-toolsai.jupyter-2021.10.1101450599\\out\\client\\extension.js:66:301742)",
      "at S.execute (c:\\Users\\Yoshi\\.vscode\\extensions\\ms-toolsai.jupyter-2021.10.1101450599\\out\\client\\extension.js:66:300732)",
      "at S.start (c:\\Users\\Yoshi\\.vscode\\extensions\\ms-toolsai.jupyter-2021.10.1101450599\\out\\client\\extension.js:66:296408)",
      "at runMicrotasks (<anonymous>)",
      "at processTicksAndRejections (internal/process/task_queues.js:93:5)",
      "at async t.CellExecutionQueue.executeQueuedCells (c:\\Users\\Yoshi\\.vscode\\extensions\\ms-toolsai.jupyter-2021.10.1101450599\\out\\client\\extension.js:66:312326)",
      "at async t.CellExecutionQueue.start (c:\\Users\\Yoshi\\.vscode\\extensions\\ms-toolsai.jupyter-2021.10.1101450599\\out\\client\\extension.js:66:311862)"
     ]
    }
   ],
   "source": [
    "sol"
   ]
  },
  {
   "cell_type": "code",
   "execution_count": null,
   "metadata": {},
   "outputs": [
    {
     "ename": "Error",
     "evalue": "Session cannot generate requests",
     "output_type": "error",
     "traceback": [
      "Error: Session cannot generate requests",
      "at S.executeCodeCell (c:\\Users\\Yoshi\\.vscode\\extensions\\ms-toolsai.jupyter-2021.10.1101450599\\out\\client\\extension.js:66:301742)",
      "at S.execute (c:\\Users\\Yoshi\\.vscode\\extensions\\ms-toolsai.jupyter-2021.10.1101450599\\out\\client\\extension.js:66:300732)",
      "at S.start (c:\\Users\\Yoshi\\.vscode\\extensions\\ms-toolsai.jupyter-2021.10.1101450599\\out\\client\\extension.js:66:296408)",
      "at runMicrotasks (<anonymous>)",
      "at processTicksAndRejections (internal/process/task_queues.js:93:5)",
      "at async t.CellExecutionQueue.executeQueuedCells (c:\\Users\\Yoshi\\.vscode\\extensions\\ms-toolsai.jupyter-2021.10.1101450599\\out\\client\\extension.js:66:312326)",
      "at async t.CellExecutionQueue.start (c:\\Users\\Yoshi\\.vscode\\extensions\\ms-toolsai.jupyter-2021.10.1101450599\\out\\client\\extension.js:66:311862)"
     ]
    }
   ],
   "source": [
    "print(sol)"
   ]
  }
 ],
 "metadata": {
  "interpreter": {
   "hash": "f4dfc3534a11df64ca8ab5b1d0d5f00bece38226cd6557b9a8a26359d97dd2dd"
  },
  "kernelspec": {
   "display_name": "Python 3.8.8 64-bit ('base': conda)",
   "language": "python",
   "name": "python3"
  },
  "language_info": {
   "codemirror_mode": {
    "name": "ipython",
    "version": 3
   },
   "file_extension": ".py",
   "mimetype": "text/x-python",
   "name": "python",
   "nbconvert_exporter": "python",
   "pygments_lexer": "ipython3",
   "version": "3.8.8"
  },
  "orig_nbformat": 4
 },
 "nbformat": 4,
 "nbformat_minor": 2
}
