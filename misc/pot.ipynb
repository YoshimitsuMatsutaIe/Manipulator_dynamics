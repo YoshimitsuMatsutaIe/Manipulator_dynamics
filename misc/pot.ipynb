{
 "cells": [
  {
   "cell_type": "code",
   "execution_count": 2,
   "metadata": {},
   "outputs": [],
   "source": [
    "import sympy as sy\n",
    "from sympy import pi, cos, sin, tan\n",
    "from IPython.display import display\n",
    "from sympy.printing.pycode import pycode\n",
    "\n",
    "\n",
    "a,b,c,d,e = sy.symbols(\"a,b,c,d,e\")\n",
    "\n",
    "x = sy.Symbol(\"x\")\n",
    "\n",
    "def f(x):\n",
    "    return a*x**4 + b*x**3 + c*x**2 + d*x + e\n",
    "\n",
    "def df(x):\n",
    "    return 4*a*x**3 + 3*b*x**2 + 2*c*x + d\n",
    "\n",
    "\n",
    "p1, p2 = sy.symbols(\"p1, p2\")\n",
    "x1, x2 = sy.symbols(\"x1, x2\")\n",
    "\n",
    "\n",
    "sol = sy.solve(\n",
    "    [\n",
    "        df(x1),\n",
    "        df(x2),\n",
    "        f(x1) - p1,\n",
    "        f(x2) - p2,\n",
    "        f(x) - f(-x),\n",
    "    ],\n",
    "    [a, b, c, d, e]\n",
    "    )\n"
   ]
  }
 ],
 "metadata": {
  "interpreter": {
   "hash": "f4dfc3534a11df64ca8ab5b1d0d5f00bece38226cd6557b9a8a26359d97dd2dd"
  },
  "kernelspec": {
   "display_name": "Julia 1.6.2",
   "language": "python",
   "name": "python3"
  },
  "language_info": {
   "codemirror_mode": {
    "name": "ipython",
    "version": 3
   },
   "file_extension": ".py",
   "mimetype": "text/x-python",
   "name": "python",
   "nbconvert_exporter": "python",
   "pygments_lexer": "ipython3",
   "version": "3.8.8"
  },
  "orig_nbformat": 4
 },
 "nbformat": 4,
 "nbformat_minor": 2
}
