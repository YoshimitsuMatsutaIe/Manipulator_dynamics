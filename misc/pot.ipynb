{
 "cells": [
  {
   "cell_type": "code",
   "execution_count": 9,
   "metadata": {},
   "outputs": [],
   "source": [
    "import sympy as sy\n",
    "from sympy import pi, cos, sin, tan\n",
    "from IPython.display import display\n",
    "from sympy.printing.pycode import pycode\n",
    "\n",
    "\n",
    "a,b,c,d,e = sy.symbols(\"a,b,c,d,e\")\n",
    "\n",
    "#x = sy.Symbol(\"x\")\n",
    "\n",
    "def f(x):\n",
    "    return a*x**4 + b*x**3 + c*x**2 + d*x + e\n",
    "\n",
    "def df(x):\n",
    "    return 4*a*x**3 + 3*b*x**2 + 2*c*x + d\n",
    "\n",
    "\n",
    "p1, p2, p3 = sy.symbols(\"p1, p2, p3\")\n",
    "x1, x2, x3 = sy.symbols(\"x1, x2, x3\")\n",
    "\n",
    "\n",
    "sol = sy.solve(\n",
    "    [\n",
    "        df(x1),\n",
    "        df(x2),\n",
    "        f(x1) - p1,\n",
    "        f(x2) - p2,\n",
    "        f(x3), - p3,\n",
    "    ],\n",
    "    [a, b, c, d, e]\n",
    "    )\n"
   ]
  },
  {
   "cell_type": "code",
   "execution_count": 1,
   "metadata": {},
   "outputs": [
    {
     "data": {
      "text/plain": [
       "{a: 3*p2/(5*x1*x2**4 - 50*x1*x2**3*x3 - 2*x2**5 + 5*x2**4*x3),\n",
       " b: (-5*p2*x1 - 5*p2*x2 - 5*p2*x3)/(5*x1*x2**4 - 50*x1*x2**3*x3 - 2*x2**5 + 5*x2**4*x3),\n",
       " c: (10*p2*x1*x2 + 10*p2*x1*x3 + 10*p2*x2*x3)/(5*x1*x2**4 - 50*x1*x2**3*x3 - 2*x2**5 + 5*x2**4*x3),\n",
       " d: -60*p2*x1*x3/(5*x1*x2**3 - 50*x1*x2**2*x3 - 2*x2**4 + 5*x2**3*x3),\n",
       " e: 0,\n",
       " f: 0}"
      ]
     },
     "execution_count": 1,
     "metadata": {},
     "output_type": "execute_result"
    }
   ],
   "source": [
    "import sympy as sy\n",
    "from sympy import pi, cos, sin, tan\n",
    "from IPython.display import display\n",
    "from sympy.printing.pycode import pycode\n",
    "\n",
    "a,b,c,d,e,f = sy.symbols(\"a,b,c,d,e,f\")\n",
    "\n",
    "#x = sy.Symbol(\"x\")\n",
    "\n",
    "def p(x):\n",
    "    return a*x**5 + b*x**4 + c*x**3 + d*x**2 + e*x + f\n",
    "\n",
    "def dp(x):\n",
    "    return 5*a*x**4 + 4*b*x**3 + 3*c*x**2 + d*x + e\n",
    "\n",
    "def ddp(x):\n",
    "    return 20*a*x**3 + 12*b*x**2 + 6*c*x + d\n",
    "\n",
    "\n",
    "p2 = sy.symbols(\"p2\")\n",
    "x1, x2, x3 = sy.symbols(\"x1, x2, x3\")\n",
    "\n",
    "\n",
    "sol = sy.solve(\n",
    "    [\n",
    "        ddp(x1),\n",
    "        ddp(x2),\n",
    "        ddp(x3),\n",
    "        dp(0),\n",
    "        p(0),\n",
    "        p(x2) - p2,\n",
    "    ],\n",
    "    [a, b, c, d, e, f]\n",
    "    )\n",
    "sol"
   ]
  },
  {
   "cell_type": "code",
   "execution_count": null,
   "metadata": {},
   "outputs": [],
   "source": [
    "# グラフ化\n",
    "\n"
   ]
  }
 ],
 "metadata": {
  "interpreter": {
   "hash": "f4dfc3534a11df64ca8ab5b1d0d5f00bece38226cd6557b9a8a26359d97dd2dd"
  },
  "kernelspec": {
   "display_name": "Julia 1.6.2",
   "language": "python",
   "name": "python3"
  },
  "language_info": {
   "codemirror_mode": {
    "name": "ipython",
    "version": 3
   },
   "file_extension": ".py",
   "mimetype": "text/x-python",
   "name": "python",
   "nbconvert_exporter": "python",
   "pygments_lexer": "ipython3",
   "version": "3.8.8"
  },
  "orig_nbformat": 4
 },
 "nbformat": 4,
 "nbformat_minor": 2
}
